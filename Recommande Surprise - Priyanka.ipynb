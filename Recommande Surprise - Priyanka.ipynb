{
 "cells": [
  {
   "cell_type": "code",
   "execution_count": null,
   "metadata": {
    "colab": {
     "base_uri": "https://localhost:8080/",
     "height": 434
    },
    "id": "9X--xSiDNYhz",
    "outputId": "ef6d6af5-d6a2-444d-b7db-863c1b0402e9"
   },
   "outputs": [
    {
     "name": "stdout",
     "output_type": "stream",
     "text": [
      "Requirement already satisfied: scikit-surprise in /usr/local/lib/python3.6/dist-packages (1.1.1)\n",
      "Requirement already satisfied: numpy>=1.11.2 in /usr/local/lib/python3.6/dist-packages (from scikit-surprise) (1.18.5)\n",
      "Requirement already satisfied: joblib>=0.11 in /usr/local/lib/python3.6/dist-packages (from scikit-surprise) (0.16.0)\n",
      "Requirement already satisfied: scipy>=1.0.0 in /usr/local/lib/python3.6/dist-packages (from scikit-surprise) (1.4.1)\n",
      "Requirement already satisfied: six>=1.10.0 in /usr/local/lib/python3.6/dist-packages (from scikit-surprise) (1.15.0)\n",
      "--2020-09-14 20:35:09--  http://files.grouplens.org/datasets/movielens/ml-latest-small.zip\n",
      "Resolving files.grouplens.org (files.grouplens.org)... 128.101.65.152\n",
      "Connecting to files.grouplens.org (files.grouplens.org)|128.101.65.152|:80... connected.\n",
      "HTTP request sent, awaiting response... 200 OK\n",
      "Length: 978202 (955K) [application/zip]\n",
      "Saving to: ‘ml-latest-small.zip.1’\n",
      "\n",
      "ml-latest-small.zip 100%[===================>] 955.28K   945KB/s    in 1.0s    \n",
      "\n",
      "2020-09-14 20:35:10 (945 KB/s) - ‘ml-latest-small.zip.1’ saved [978202/978202]\n",
      "\n",
      "Archive:  ml-latest-small.zip\n",
      "replace ml-latest-small/links.csv? [y]es, [n]o, [A]ll, [N]one, [r]ename: A\n",
      "  inflating: ml-latest-small/links.csv  \n",
      "  inflating: ml-latest-small/tags.csv  \n",
      "  inflating: ml-latest-small/ratings.csv  \n",
      "  inflating: ml-latest-small/README.txt  \n",
      "  inflating: ml-latest-small/movies.csv  \n",
      "ml-latest-small  ml-latest-small.zip  ml-latest-small.zip.1  sample_data\n"
     ]
    }
   ],
   "source": [
    "! pip install scikit-surprise\n",
    "from surprise import KNNBasic\n",
    "from surprise import Dataset\n",
    "from surprise import Reader\n",
    "\n",
    "from collections import defaultdict\n",
    "from operator import itemgetter\n",
    "import heapq\n",
    "\n",
    "import os\n",
    "import csv\n",
    "\n",
    "# Download the (small) Movielens dataset\n",
    "!wget http://files.grouplens.org/datasets/movielens/ml-latest-small.zip\n",
    "!unzip ml-latest-small.zip\n",
    "!ls"
   ]
  },
  {
   "cell_type": "markdown",
   "metadata": {
    "id": "rF6m36oLUYgR"
   },
   "source": [
    "# Load the dataset.\n"
   ]
  },
  {
   "cell_type": "code",
   "execution_count": null,
   "metadata": {
    "id": "tYxXRz7reLMN"
   },
   "outputs": [],
   "source": [
    "# Load in the movie ratings and return a dataset.\n",
    "def load_dataset():\n",
    "    reader = Reader(line_format='user item rating timestamp', sep=',', skip_lines=1)\n",
    "    ratings_dataset = Dataset.load_from_file('ml-latest-small/ratings.csv', reader=reader)\n",
    "\n",
    "    # Lookup a movie's name with it's Movielens ID as key\n",
    "    movieID_to_name = {}\n",
    "    with open('ml-latest-small/movies.csv', newline='', encoding='ISO-8859-1') as csvfile:\n",
    "            movie_reader = csv.reader(csvfile)\n",
    "            next(movie_reader)\n",
    "            for row in movie_reader:\n",
    "                movieID = int(row[0])\n",
    "                movie_name = row[1]\n",
    "                movieID_to_name[movieID] = movie_name\n",
    "    # Return both the dataset and lookup dict in tuple\n",
    "    return (ratings_dataset, movieID_to_name)\n",
    "\n",
    "dataset, movieID_to_name = load_dataset()\n",
    "\n",
    "# Build a full Surprise training set from dataset\n",
    "trainset = dataset.build_full_trainset()"
   ]
  },
  {
   "cell_type": "code",
   "execution_count": null,
   "metadata": {
    "colab": {
     "base_uri": "https://localhost:8080/",
     "height": 86
    },
    "id": "zMXU-EePXNpu",
    "outputId": "929917ec-2f48-420d-8a79-642bc87e820e"
   },
   "outputs": [
    {
     "name": "stdout",
     "output_type": "stream",
     "text": [
      "Computing the cosine similarity matrix...\n",
      "Done computing similarity matrix.\n",
      "Computing the cosine similarity matrix...\n",
      "Done computing similarity matrix.\n"
     ]
    }
   ],
   "source": [
    "similarity_matrix = KNNBasic(sim_options={\n",
    "        'name': 'cosine',\n",
    "        'user_based': False\n",
    "        })\\\n",
    "        .fit(trainset)\\\n",
    "        .compute_similarities()"
   ]
  },
  {
   "cell_type": "markdown",
   "metadata": {},
   "source": [
    "# Train model and Make predictions\n"
   ]
  },
  {
   "cell_type": "code",
   "execution_count": null,
   "metadata": {
    "id": "BxUxbBbqOn3D"
   },
   "outputs": [],
   "source": [
    "from surprise import SVD\n",
    "\n",
    "model = SVD()"
   ]
  },
  {
   "cell_type": "code",
   "execution_count": null,
   "metadata": {
    "id": "cA-GpVgVQTXY"
   },
   "outputs": [],
   "source": [
    "model.fit(train)\n",
    "predictions = model.test(test)\n",
    "predictions"
   ]
  },
  {
   "cell_type": "markdown",
   "metadata": {},
   "source": [
    "# Evaluation\n"
   ]
  },
  {
   "cell_type": "code",
   "execution_count": null,
   "metadata": {
    "id": "PDjwk2THR0Pz"
   },
   "outputs": [],
   "source": [
    "\n",
    "from surprise import accuracy\n",
    "\n",
    "accuracy.rmse(predictions=predictions)"
   ]
  },
  {
   "cell_type": "code",
   "execution_count": null,
   "metadata": {
    "id": "M2JokYeyIK8x"
   },
   "outputs": [],
   "source": [
    "accuracy.mae(predictions=predictions)\n"
   ]
  },
  {
   "cell_type": "markdown",
   "metadata": {},
   "source": [
    "# Cross validation\n"
   ]
  },
  {
   "cell_type": "code",
   "execution_count": null,
   "metadata": {},
   "outputs": [],
   "source": [
    "\n",
    "from surprise.model_selection import cross_validate\n",
    "\n",
    "cross_validate(model, data, measures=['RMSE', 'MAE'], cv=5, verbose=True)"
   ]
  }
 ],
 "metadata": {
  "colab": {
   "collapsed_sections": [],
   "history_visible": true,
   "name": "SurpriseLib.ipynb",
   "provenance": []
  },
  "kernelspec": {
   "display_name": "Python 3",
   "language": "python",
   "name": "python3"
  },
  "language_info": {
   "codemirror_mode": {
    "name": "ipython",
    "version": 3
   },
   "file_extension": ".py",
   "mimetype": "text/x-python",
   "name": "python",
   "nbconvert_exporter": "python",
   "pygments_lexer": "ipython3",
   "version": "3.8.3"
  }
 },
 "nbformat": 4,
 "nbformat_minor": 1
}

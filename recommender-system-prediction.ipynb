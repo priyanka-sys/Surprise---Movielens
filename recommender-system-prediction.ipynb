{
 "cells": [
  {
   "cell_type": "markdown",
   "metadata": {},
   "source": [
    "## get_user_recommendation"
   ]
  },
  {
   "cell_type": "code",
   "execution_count": 1,
   "metadata": {},
   "outputs": [],
   "source": [
    "import utils.load_data as load_data\n",
    "import utils.Dataload as Dataload\n",
    "from pathlib import Path\n",
    "from surprise.model_selection import train_test_split\n",
    "from surprise import SVD, NMF\n",
    "from surprise.prediction_algorithms.knns import KNNBasic\n",
    "from surprise.prediction_algorithms.algo_base import AlgoBase\n",
    "from surprise.dump import dump, load"
   ]
  },
  {
   "cell_type": "code",
   "execution_count": 2,
   "metadata": {},
   "outputs": [],
   "source": [
    "data_raw = data_loader.get_data('ml-100k')\n",
    "data_dir = Path('../data/movielens/ml-latest-small/ratings.csv')\n",
    "reader = Reader(line_format='user item rating timestamp', sep=',', skip_lines=1)\n",
    "data_raw = data_loader.get_data('ratings.csv', False)"
   ]
  },
  {
   "cell_type": "code",
   "execution_count": 3,
   "metadata": {},
   "outputs": [],
   "source": [
    "def train_and_evalute_model_pipeline(model_class: AlgoBase, dataset: str = 'ml-100k', \n",
    "                                     from_surprise: bool = True, \n",
    "                                     test_size: float = 0.2,\n",
    "                                     model_kwargs: dict = {}) -> (AlgoBase, dict):\n",
    "    data = data_loader.get_data(dataset, from_surprise)\n",
    "    train_set, test_set = train_test_split(data, test_size, random_state=42)\n",
    "    model = Dataload.get_trained_model(model_class, train_set, model_kwargs)\n",
    "    metrics_dict = Dataload.evaluate_model(model, test_set)\n",
    "    return model, metrics_dict"
   ]
  },
  {
   "cell_type": "code",
   "execution_count": 10,
   "metadata": {},
   "outputs": [
    {
     "name": "stdout",
     "output_type": "stream",
     "text": [
      "Computing the pearson similarity matrix...\n",
      "Done computing similarity matrix.\n"
     ]
    },
    {
     "data": {
      "text/plain": [
       "<surprise.prediction_algorithms.knns.KNNBasic at 0x7fc94c14fdc0>"
      ]
     },
     "execution_count": 10,
     "metadata": {},
     "output_type": "execute_result"
    }
   ],
   "source": [
    "my_model, metrics_dict = train_and_evalute_model_pipeline(KNNBasic)\n",
    "metrics_dict"
   ]
  },
  {
   "cell_type": "code",
   "execution_count": 9,
   "metadata": {},
   "outputs": [],
   "source": [
    "def get_user_recommendation(model: AlgoBase, user_id: int, k: int) -> pd.DataFrame:\n",
    "    \n",
    "    try:\n",
    "        preds, model = load(Path(model_dir, str(model)[8:-2]))\n",
    "    except:\n",
    "        data = data_loader.get_data('ml-100k')\n",
    "        trainset = data.build_full_trainset()\n",
    "        testset = trainset.build_anti_testset()\n",
    "        trained_model = model_loader.get_trained_model(model, trainset)\n",
    "        preds = trained_model.test(testset)\n",
    "        dump(Path(model_dir, str(model)[8:-2]), preds, trained_model)\n",
    "    top_n = predictions.get_top_n(preds, n=k)\n",
    "    movies = data_loader.get_item_data('movies.csv', data_dir)\n",
    "\n",
    "    \n",
    "    return predictions.get_item_details(top_n[user_id], movies, 'movieId', ['movieId', 'title', 'genres'])\n",
    "\n",
    "recommendations = get_user_recommendation(SVD, '196', 10)\n",
    "recommendations.reset_index(drop=True, inplace=True)\n",
    "display(recommendations)"
   ]
  }
 ],
 "metadata": {
  "kernelspec": {
   "display_name": "Python 3",
   "language": "python",
   "name": "python3"
  },
  "language_info": {
   "codemirror_mode": {
    "name": "ipython",
    "version": 3
   },
   "file_extension": ".py",
   "mimetype": "text/x-python",
   "name": "python",
   "nbconvert_exporter": "python",
   "pygments_lexer": "ipython3",
   "version": "3.8.3"
  },
  "toc": {
   "base_numbering": 1,
   "nav_menu": {},
   "number_sections": true,
   "sideBar": true,
   "skip_h1_title": false,
   "title_cell": "Table of Contents",
   "title_sidebar": "Contents",
   "toc_cell": false,
   "toc_position": {
    "height": "calc(100% - 180px)",
    "left": "10px",
    "top": "150px",
    "width": "270.1875px"
   },
   "toc_section_display": true,
   "toc_window_display": true
  }
 },
 "nbformat": 4,
 "nbformat_minor": 4
}
